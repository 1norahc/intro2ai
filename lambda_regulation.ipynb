{
 "cells": [
  {
   "cell_type": "markdown",
   "metadata": {},
   "source": [
    "# Lambda regulation in Python\n",
    "---\n",
    "**`lambda`** *`arguments: expression`*\n",
    "\n",
    "- `arguments` to lista argumentów, które funkcja lambda przyjmuje.\n",
    "\n",
    "- `expression` to wyrażenie, które jest obliczane i zwracane jako wynik funkcji."
   ]
  },
  {
   "cell_type": "markdown",
   "metadata": {},
   "source": [
    "### Przykłady w Pythonie"
   ]
  },
  {
   "cell_type": "code",
   "execution_count": 2,
   "metadata": {},
   "outputs": [
    {
     "data": {
      "text/plain": [
       "8"
      ]
     },
     "execution_count": 2,
     "metadata": {},
     "output_type": "execute_result"
    }
   ],
   "source": [
    "# Prosta funkcja lambda dodająca dwie liczby\n",
    "add = lambda x, y: x+y\n",
    "add(5, 3)"
   ]
  },
  {
   "cell_type": "code",
   "execution_count": 3,
   "metadata": {},
   "outputs": [
    {
     "data": {
      "text/plain": [
       "4"
      ]
     },
     "execution_count": 3,
     "metadata": {},
     "output_type": "execute_result"
    }
   ],
   "source": [
    "# Funkcja lambda do obliczenia kwadratu liczby\n",
    "square = lambda x: x**2\n",
    "square(2)"
   ]
  },
  {
   "cell_type": "code",
   "execution_count": 16,
   "metadata": {},
   "outputs": [
    {
     "data": {
      "text/plain": [
       "[1, 1, 2, 3, 3, 4, 5, 5, 5, 6, 9]"
      ]
     },
     "execution_count": 16,
     "metadata": {},
     "output_type": "execute_result"
    }
   ],
   "source": [
    "# Sortowanie listy liczb za pomocą funkcji lambda jako klucza sortowania\n",
    "list_of_unsorted_numbers = [3, 1, 4, 1, 5, 9, 2, 6, 5, 3, 5]\n",
    "\n",
    "sorted_numbers = sorted(list_of_unsorted_numbers, key=lambda x: x)\n",
    "sorted_numbers"
   ]
  },
  {
   "cell_type": "code",
   "execution_count": 18,
   "metadata": {},
   "outputs": [
    {
     "data": {
      "text/plain": [
       "[2, 4, 6, 8]"
      ]
     },
     "execution_count": 18,
     "metadata": {},
     "output_type": "execute_result"
    }
   ],
   "source": [
    "# Funkcja lambda do filtrowania liczb parzystych w liście\n",
    "numbers = [1, 2, 3, 4, 5, 6, 7, 8, 9]\n",
    "even_numbers = list(filter(lambda x: x % 2 == 0, numbers))\n",
    "even_numbers"
   ]
  },
  {
   "cell_type": "markdown",
   "metadata": {},
   "source": [
    "Funkcje **lambda** są używane tam, gdzie potrzebna jest krótka i najczęściej jednorazowa funkcja, nie wymagającej pełnej definicji za pomocą `def`. Jednak są one ograniczone w porównaniu do pełnych funkcji, ponieważ nie mogą zawierać wielu wyrażeń i instrukcji. W bardziej zaawansowanych przypadkach, gdy potrzeba bardziej skomplikowanych funkcji, zwykle używa się pełnych funkcji zdefiniowanych przez `def`."
   ]
  }
 ],
 "metadata": {
  "kernelspec": {
   "display_name": "base",
   "language": "python",
   "name": "python3"
  },
  "language_info": {
   "codemirror_mode": {
    "name": "ipython",
    "version": 3
   },
   "file_extension": ".py",
   "mimetype": "text/x-python",
   "name": "python",
   "nbconvert_exporter": "python",
   "pygments_lexer": "ipython3",
   "version": "3.8.5"
  }
 },
 "nbformat": 4,
 "nbformat_minor": 2
}
