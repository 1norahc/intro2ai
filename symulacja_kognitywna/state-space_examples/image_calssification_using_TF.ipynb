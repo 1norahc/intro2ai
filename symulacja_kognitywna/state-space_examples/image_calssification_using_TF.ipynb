{
 "cells": [
  {
   "cell_type": "markdown",
   "metadata": {},
   "source": [
    "# Przykład przestrzeni stanów za pomocą klasyfikacji obrazów przy użyciu biblioteki TensorFlow\n",
    "W tym przykładzie zostanie użyty zestaw danych MNIST\n",
    "\n",
    "***Python 3.9.1***"
   ]
  },
  {
   "cell_type": "code",
   "execution_count": 4,
   "metadata": {},
   "outputs": [],
   "source": [
    "import tensorflow as tf\n",
    "from tensorflow import keras\n",
    "from keras.datasets import mnist\n",
    "import matplotlib.pyplot as plt"
   ]
  },
  {
   "cell_type": "code",
   "execution_count": 7,
   "metadata": {},
   "outputs": [],
   "source": [
    "# Wczytywanie danyhc MNIST\n",
    "mnist = keras.datasets.mnist\n",
    "(train_images, train_labels), (test_images, test_labels) = mnist.load_data()"
   ]
  },
  {
   "cell_type": "code",
   "execution_count": 8,
   "metadata": {},
   "outputs": [],
   "source": [
    "# Normalizacja danych (skalowanie pikseli do zakresu [0, 1])\n",
    "train_images, test_images = train_images / 255.0, test_images / 255.0"
   ]
  },
  {
   "cell_type": "code",
   "execution_count": 9,
   "metadata": {},
   "outputs": [],
   "source": [
    "# Definicja modelu sieci neuronowej\n",
    "model = keras.models.Sequential([\n",
    "    keras.layers.Flatten(input_shape=(28, 28)), # Warstwa wejściowa - spłaszczenie obrazów\n",
    "    keras.layers.Dense(128, activation='relu'), # Warstwa ukryta z funkcją aktywacji ReLU\n",
    "    keras.layers.Dropout(0.2), # Warstwa Dropout (zapobieganie przeuczeniu)\n",
    "    keras.layers.Dense(10, activation='softmax') # Warstwa wyjściowa z funkcją aktywacji softmax\n",
    "])"
   ]
  },
  {
   "cell_type": "code",
   "execution_count": 12,
   "metadata": {},
   "outputs": [],
   "source": [
    "# Kompilacja modelu\n",
    "model.compile(\n",
    "    optimizer='adam',\n",
    "    loss='sparse_categorical_crossentropy',\n",
    "    metrics=['accuracy'])"
   ]
  },
  {
   "cell_type": "code",
   "execution_count": 20,
   "metadata": {},
   "outputs": [
    {
     "name": "stdout",
     "output_type": "stream",
     "text": [
      "Epoch 1/50\n",
      "1875/1875 [==============================] - 3s 1ms/step - loss: 0.0298 - accuracy: 0.9898\n",
      "Epoch 2/50\n",
      "1875/1875 [==============================] - 3s 1ms/step - loss: 0.0291 - accuracy: 0.9898\n",
      "Epoch 3/50\n",
      "1875/1875 [==============================] - 3s 1ms/step - loss: 0.0285 - accuracy: 0.9908\n",
      "Epoch 4/50\n",
      "1875/1875 [==============================] - 3s 1ms/step - loss: 0.0286 - accuracy: 0.9903\n",
      "Epoch 5/50\n",
      "1875/1875 [==============================] - 3s 1ms/step - loss: 0.0270 - accuracy: 0.9903\n",
      "Epoch 6/50\n",
      "1875/1875 [==============================] - 3s 2ms/step - loss: 0.0246 - accuracy: 0.9915\n",
      "Epoch 7/50\n",
      "1875/1875 [==============================] - 3s 1ms/step - loss: 0.0254 - accuracy: 0.9914\n",
      "Epoch 8/50\n",
      "1875/1875 [==============================] - 3s 1ms/step - loss: 0.0231 - accuracy: 0.9923\n",
      "Epoch 9/50\n",
      "1875/1875 [==============================] - 3s 1ms/step - loss: 0.0227 - accuracy: 0.9918\n",
      "Epoch 10/50\n",
      "1875/1875 [==============================] - 3s 1ms/step - loss: 0.0225 - accuracy: 0.9918\n",
      "Epoch 11/50\n",
      "1875/1875 [==============================] - 3s 1ms/step - loss: 0.0212 - accuracy: 0.9932\n",
      "Epoch 12/50\n",
      "1875/1875 [==============================] - 3s 1ms/step - loss: 0.0205 - accuracy: 0.9929\n",
      "Epoch 13/50\n",
      "1875/1875 [==============================] - 3s 1ms/step - loss: 0.0217 - accuracy: 0.9929\n",
      "Epoch 14/50\n",
      "1875/1875 [==============================] - 3s 1ms/step - loss: 0.0197 - accuracy: 0.9932\n",
      "Epoch 15/50\n",
      "1875/1875 [==============================] - 3s 1ms/step - loss: 0.0200 - accuracy: 0.9933\n",
      "Epoch 16/50\n",
      "1875/1875 [==============================] - 3s 1ms/step - loss: 0.0197 - accuracy: 0.9931\n",
      "Epoch 17/50\n",
      "1875/1875 [==============================] - 3s 1ms/step - loss: 0.0184 - accuracy: 0.9937\n",
      "Epoch 18/50\n",
      "1875/1875 [==============================] - 4s 2ms/step - loss: 0.0189 - accuracy: 0.9937\n",
      "Epoch 19/50\n",
      "1875/1875 [==============================] - 3s 2ms/step - loss: 0.0189 - accuracy: 0.9934\n",
      "Epoch 20/50\n",
      "1875/1875 [==============================] - 3s 2ms/step - loss: 0.0178 - accuracy: 0.9937\n",
      "Epoch 21/50\n",
      "1875/1875 [==============================] - 3s 2ms/step - loss: 0.0197 - accuracy: 0.9934\n",
      "Epoch 22/50\n",
      "1875/1875 [==============================] - 4s 2ms/step - loss: 0.0172 - accuracy: 0.9939\n",
      "Epoch 23/50\n",
      "1875/1875 [==============================] - 3s 2ms/step - loss: 0.0187 - accuracy: 0.9934\n",
      "Epoch 24/50\n",
      "1875/1875 [==============================] - 3s 2ms/step - loss: 0.0163 - accuracy: 0.9945\n",
      "Epoch 25/50\n",
      "1875/1875 [==============================] - 3s 2ms/step - loss: 0.0172 - accuracy: 0.9943\n",
      "Epoch 26/50\n",
      "1875/1875 [==============================] - 3s 1ms/step - loss: 0.0161 - accuracy: 0.9942\n",
      "Epoch 27/50\n",
      "1875/1875 [==============================] - 3s 1ms/step - loss: 0.0171 - accuracy: 0.9941\n",
      "Epoch 28/50\n",
      "1875/1875 [==============================] - 3s 2ms/step - loss: 0.0165 - accuracy: 0.9940\n",
      "Epoch 29/50\n",
      "1875/1875 [==============================] - 3s 2ms/step - loss: 0.0153 - accuracy: 0.9951\n",
      "Epoch 30/50\n",
      "1875/1875 [==============================] - 3s 1ms/step - loss: 0.0182 - accuracy: 0.9939\n",
      "Epoch 31/50\n",
      "1875/1875 [==============================] - 3s 1ms/step - loss: 0.0145 - accuracy: 0.9953\n",
      "Epoch 32/50\n",
      "1875/1875 [==============================] - 3s 1ms/step - loss: 0.0170 - accuracy: 0.9944\n",
      "Epoch 33/50\n",
      "1875/1875 [==============================] - 3s 1ms/step - loss: 0.0152 - accuracy: 0.9947\n",
      "Epoch 34/50\n",
      "1875/1875 [==============================] - 3s 1ms/step - loss: 0.0160 - accuracy: 0.9948\n",
      "Epoch 35/50\n",
      "1875/1875 [==============================] - 3s 1ms/step - loss: 0.0156 - accuracy: 0.9946\n",
      "Epoch 36/50\n",
      "1875/1875 [==============================] - 3s 1ms/step - loss: 0.0152 - accuracy: 0.9947\n",
      "Epoch 37/50\n",
      "1875/1875 [==============================] - 3s 1ms/step - loss: 0.0138 - accuracy: 0.9953\n",
      "Epoch 38/50\n",
      "1875/1875 [==============================] - 3s 1ms/step - loss: 0.0154 - accuracy: 0.9949\n",
      "Epoch 39/50\n",
      "1875/1875 [==============================] - 3s 1ms/step - loss: 0.0149 - accuracy: 0.9952\n",
      "Epoch 40/50\n",
      "1875/1875 [==============================] - 3s 1ms/step - loss: 0.0147 - accuracy: 0.9947\n",
      "Epoch 41/50\n",
      "1875/1875 [==============================] - 3s 1ms/step - loss: 0.0148 - accuracy: 0.9948\n",
      "Epoch 42/50\n",
      "1875/1875 [==============================] - 3s 1ms/step - loss: 0.0136 - accuracy: 0.9952\n",
      "Epoch 43/50\n",
      "1875/1875 [==============================] - 3s 1ms/step - loss: 0.0150 - accuracy: 0.9952\n",
      "Epoch 44/50\n",
      "1875/1875 [==============================] - 3s 1ms/step - loss: 0.0140 - accuracy: 0.9950\n",
      "Epoch 45/50\n",
      "1875/1875 [==============================] - 3s 1ms/step - loss: 0.0143 - accuracy: 0.9952\n",
      "Epoch 46/50\n",
      "1875/1875 [==============================] - 3s 1ms/step - loss: 0.0126 - accuracy: 0.9958\n",
      "Epoch 47/50\n",
      "1875/1875 [==============================] - 3s 1ms/step - loss: 0.0137 - accuracy: 0.9957\n",
      "Epoch 48/50\n",
      "1875/1875 [==============================] - 3s 1ms/step - loss: 0.0143 - accuracy: 0.9955\n",
      "Epoch 49/50\n",
      "1875/1875 [==============================] - 3s 1ms/step - loss: 0.0140 - accuracy: 0.9955\n",
      "Epoch 50/50\n",
      "1875/1875 [==============================] - 3s 1ms/step - loss: 0.0123 - accuracy: 0.9959\n"
     ]
    },
    {
     "data": {
      "text/plain": [
       "<keras.callbacks.History at 0x235a36eee80>"
      ]
     },
     "execution_count": 20,
     "metadata": {},
     "output_type": "execute_result"
    }
   ],
   "source": [
    "# Trenowanie modelu\n",
    "model.fit(train_images, train_labels, epochs=50)"
   ]
  },
  {
   "cell_type": "code",
   "execution_count": 21,
   "metadata": {},
   "outputs": [
    {
     "name": "stdout",
     "output_type": "stream",
     "text": [
      "313/313 [==============================] - 0s 1ms/step - loss: 0.1282 - accuracy: 0.9812\n"
     ]
    },
    {
     "data": {
      "text/plain": [
       "0.9811999797821045"
      ]
     },
     "execution_count": 21,
     "metadata": {},
     "output_type": "execute_result"
    }
   ],
   "source": [
    "# Ocena modelu na danych testowych\n",
    "test_loss, test_acc = model.evaluate(test_images, test_labels)\n",
    "test_acc # Dokładnosc danych testowych"
   ]
  },
  {
   "cell_type": "code",
   "execution_count": 22,
   "metadata": {},
   "outputs": [
    {
     "data": {
      "text/plain": [
       "(7, 7)"
      ]
     },
     "execution_count": 22,
     "metadata": {},
     "output_type": "execute_result"
    }
   ],
   "source": [
    "# Przykład klasyfikacji obrazu z danych testowych\n",
    "predictions = model.predict(test_images)\n",
    "sample_index = 0\n",
    "predicted_label = tf.argmax(predictions[sample_index]).numpy()\n",
    "actual_label = test_labels[sample_index]\n",
    "\n",
    "predicted_label, actual_label # Przewidziana etykieta, Rzeczywista etykieta"
   ]
  },
  {
   "cell_type": "code",
   "execution_count": 23,
   "metadata": {},
   "outputs": [
    {
     "data": {
      "image/png": "[encoded data removed]",
      "text/plain": [
       "<Figure size 432x288 with 2 Axes>"
      ]
     },
     "metadata": {
      "needs_background": "light"
     },
     "output_type": "display_data"
    }
   ],
   "source": [
    "plt.figure()\n",
    "plt.imshow(test_images[sample_index], cmap=plt.cm.binary)\n",
    "plt.colorbar()\n",
    "plt.grid(False)\n",
    "plt.show()"
   ]
  }
 ],
 "metadata": {
  "kernelspec": {
   "display_name": "base",
   "language": "python",
   "name": "python3"
  },
  "language_info": {
   "codemirror_mode": {
    "name": "ipython",
    "version": 3
   },
   "file_extension": ".py",
   "mimetype": "text/x-python",
   "name": "python",
   "nbconvert_exporter": "python",
   "pygments_lexer": "ipython3",
   "version": "3.9.1"
  }
 },
 "nbformat": 4,
 "nbformat_minor": 2
}
