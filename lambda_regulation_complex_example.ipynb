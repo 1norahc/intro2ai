{
 "cells": [
  {
   "cell_type": "markdown",
   "metadata": {},
   "source": [
    "# Complex examples of using lambda regulation in Python"
   ]
  },
  {
   "cell_type": "code",
   "execution_count": 1,
   "metadata": {},
   "outputs": [
    {
     "data": {
      "text/plain": [
       "['banan', 'jabłko', 'ananas', 'gruszka', 'truskawka']"
      ]
     },
     "execution_count": 1,
     "metadata": {},
     "output_type": "execute_result"
    }
   ],
   "source": [
    "# Sortowanie listy słów według długości\n",
    "words = [\"jabłko\", \"gruszka\", \"banan\", \"ananas\", \"truskawka\"]\n",
    "sorted_words = sorted(words, key=lambda x: len(x))\n",
    "sorted_words"
   ]
  },
  {
   "cell_type": "code",
   "execution_count": 5,
   "metadata": {},
   "outputs": [
    {
     "data": {
      "text/plain": [
       "(10, 15)"
      ]
     },
     "execution_count": 5,
     "metadata": {},
     "output_type": "execute_result"
    }
   ],
   "source": [
    "# Tworzenie funkcji wyższego rzędu, która zwraca inną funkcję\n",
    "def multiplier(factor):\n",
    "    return lambda x: x * factor\n",
    "\n",
    "double = multiplier(2)\n",
    "triple = multiplier(3)\n",
    "\n",
    "double(5), triple(5)"
   ]
  },
  {
   "cell_type": "code",
   "execution_count": 8,
   "metadata": {},
   "outputs": [
    {
     "data": {
      "text/plain": [
       "15"
      ]
     },
     "execution_count": 8,
     "metadata": {},
     "output_type": "execute_result"
    }
   ],
   "source": [
    "# Obliczanie sumy elementów listy za pomocą funkcji `reduce` z modułu `functools` i funkcji lambda\n",
    "from functools import reduce\n",
    "\n",
    "numbers = [1, 2, 3, 4, 5]\n",
    "total = reduce(lambda x, y: x + y, numbers)\n",
    "\n",
    "total"
   ]
  },
  {
   "cell_type": "code",
   "execution_count": 11,
   "metadata": {},
   "outputs": [
    {
     "data": {
      "text/plain": [
       "[(3, 2), (1, 4), (7, 5)]"
      ]
     },
     "execution_count": 11,
     "metadata": {},
     "output_type": "execute_result"
    }
   ],
   "source": [
    "# Zastosowanie funkcji lambda wewnątrz listy składanej do przekształcenia danych\n",
    "data = [(1, 4), (3, 2), (7, 5)]\n",
    "sorted_data = sorted(data, key=lambda x: x[1])\n",
    "sorted_data"
   ]
  },
  {
   "cell_type": "code",
   "execution_count": 16,
   "metadata": {},
   "outputs": [
    {
     "data": {
      "text/plain": [
       "(8, 2, 15, 2.0)"
      ]
     },
     "execution_count": 16,
     "metadata": {},
     "output_type": "execute_result"
    }
   ],
   "source": [
    "# Tworzenie prostego kalkulatora za pomocą funkcji lambda\n",
    "calculator = {\n",
    "    'add': lambda x, y: x + y,\n",
    "    'subtract': lambda x, y: x - y,\n",
    "    'multiply': lambda x, y: x * y,\n",
    "    'divide': lambda x, y: x / y\n",
    "}\n",
    "\n",
    "result1 = calculator['add'](5, 3)\n",
    "result2 = calculator['subtract'](5,3)\n",
    "result3 = calculator['multiply'](5,3)\n",
    "result4 = calculator['divide'](6,3)\n",
    "\n",
    "result1, result2, result3, result4"
   ]
  },
  {
   "cell_type": "code",
   "execution_count": 17,
   "metadata": {},
   "outputs": [
    {
     "name": "stdout",
     "output_type": "stream",
     "text": [
      "k ['kot']\n",
      "p ['pies']\n",
      "k ['koń']\n",
      "c ['chomik']\n",
      "k ['kaczka', 'kangur']\n"
     ]
    }
   ],
   "source": [
    "# Grupowanie elementów listy na podstawie pewnego kryterium za pomocą funkcji lambda i `groupby` z modułu `itertools`\n",
    "from itertools import groupby\n",
    "\n",
    "animals = [\"kot\", \"pies\", \"koń\", \"chomik\", \"kaczka\", \"kangur\"]\n",
    "grouped_animals = groupby(animals, key=lambda x: x[0])\n",
    "for key, group in grouped_animals:\n",
    "    print(key, list(group))"
   ]
  },
  {
   "cell_type": "code",
   "execution_count": null,
   "metadata": {},
   "outputs": [],
   "source": []
  }
 ],
 "metadata": {
  "kernelspec": {
   "display_name": "base",
   "language": "python",
   "name": "python3"
  },
  "language_info": {
   "codemirror_mode": {
    "name": "ipython",
    "version": 3
   },
   "file_extension": ".py",
   "mimetype": "text/x-python",
   "name": "python",
   "nbconvert_exporter": "python",
   "pygments_lexer": "ipython3",
   "version": "3.8.5"
  }
 },
 "nbformat": 4,
 "nbformat_minor": 2
}
